{
 "cells": [
  {
   "cell_type": "code",
   "execution_count": 281,
   "id": "5f78599d",
   "metadata": {},
   "outputs": [],
   "source": [
    "import pandas as pd"
   ]
  },
  {
   "cell_type": "code",
   "execution_count": 282,
   "id": "c1c7fdbe",
   "metadata": {},
   "outputs": [],
   "source": [
    "import joblib"
   ]
  },
  {
   "cell_type": "code",
   "execution_count": 283,
   "id": "a982d11b",
   "metadata": {},
   "outputs": [],
   "source": [
    "import numpy as np"
   ]
  },
  {
   "cell_type": "code",
   "execution_count": 284,
   "id": "126bc350",
   "metadata": {},
   "outputs": [],
   "source": [
    "import seaborn"
   ]
  },
  {
   "cell_type": "code",
   "execution_count": 285,
   "id": "da8f779c",
   "metadata": {},
   "outputs": [],
   "source": [
    "import matplotlib.pyplot as plt"
   ]
  },
  {
   "cell_type": "code",
   "execution_count": 286,
   "id": "5a2a5742",
   "metadata": {},
   "outputs": [],
   "source": [
    "import sklearn"
   ]
  },
  {
   "cell_type": "code",
   "execution_count": 287,
   "id": "003f73fb",
   "metadata": {},
   "outputs": [],
   "source": [
    "from collections import Counter"
   ]
  },
  {
   "cell_type": "code",
   "execution_count": 288,
   "id": "1348d829",
   "metadata": {},
   "outputs": [],
   "source": [
    "import sys\n",
    "additional_paths = ['/Users/rubber/SpeedyCommentExtractor', '/Library/Frameworks/Python.framework/Versions/3.9/lib/python39.zip', '/Library/Frameworks/Python.framework/Versions/3.9/lib/python3.9', '/Library/Frameworks/Python.framework/Versions/3.9/lib/python3.9/lib-dynload', '/Users/rubber/PycharmProjects/pythonProject/venv/lib/python3.9/site-packages']\n",
    "for p in additional_paths:\n",
    "    sys.path.append(p)"
   ]
  },
  {
   "cell_type": "code",
   "execution_count": 289,
   "id": "82d99a1c",
   "metadata": {},
   "outputs": [],
   "source": [
    "%matplotlib inline "
   ]
  },
  {
   "cell_type": "code",
   "execution_count": 290,
   "id": "7ea25189",
   "metadata": {},
   "outputs": [
    {
     "name": "stdout",
     "output_type": "stream",
     "text": [
      "rows: 1181\n"
     ]
    }
   ],
   "source": [
    "data = pd.read_csv('full13.csv')\n",
    "print(\"rows:\", data.shape[0] - 1)\n",
    "split = False"
   ]
  },
  {
   "cell_type": "code",
   "execution_count": 291,
   "id": "deae19b6",
   "metadata": {
    "scrolled": true
   },
   "outputs": [
    {
     "data": {
      "text/html": [
       "<div>\n",
       "<style scoped>\n",
       "    .dataframe tbody tr th:only-of-type {\n",
       "        vertical-align: middle;\n",
       "    }\n",
       "\n",
       "    .dataframe tbody tr th {\n",
       "        vertical-align: top;\n",
       "    }\n",
       "\n",
       "    .dataframe thead th {\n",
       "        text-align: right;\n",
       "    }\n",
       "</style>\n",
       "<table border=\"1\" class=\"dataframe\">\n",
       "  <thead>\n",
       "    <tr style=\"text-align: right;\">\n",
       "      <th></th>\n",
       "      <th>commentid</th>\n",
       "      <th>original_comment</th>\n",
       "      <th>label</th>\n",
       "      <th>line</th>\n",
       "      <th>language</th>\n",
       "      <th>new_line</th>\n",
       "      <th>location</th>\n",
       "      <th>length</th>\n",
       "      <th>source</th>\n",
       "      <th>trigram</th>\n",
       "    </tr>\n",
       "  </thead>\n",
       "  <tbody>\n",
       "    <tr>\n",
       "      <th>0</th>\n",
       "      <td>1</td>\n",
       "      <td>Simple end list indicator for cases when we wa...</td>\n",
       "      <td>hedonism, conformity</td>\n",
       "      <td>['simpl', 'end', 'list', 'indic', 'case', 'wan...</td>\n",
       "      <td>xml</td>\n",
       "      <td>simpl end list indic case want make sure fab c...</td>\n",
       "      <td>/var/folders/0z/w9k_bhsd1pv7yblndck71ync0000gn...</td>\n",
       "      <td>12</td>\n",
       "      <td>wordpress</td>\n",
       "      <td>[('simpl', 'end', 'list'), ('end', 'list', 'in...</td>\n",
       "    </tr>\n",
       "    <tr>\n",
       "      <th>1</th>\n",
       "      <td>2</td>\n",
       "      <td>Wraps the compat and OS versions of the Notifi...</td>\n",
       "      <td>hedonism</td>\n",
       "      <td>['wrap', 'compat', 'os', 'version', 'notif', '...</td>\n",
       "      <td>kotlin</td>\n",
       "      <td>wrap compat os version notif build er easili a...</td>\n",
       "      <td>/tmp/tmpdk05w3ez/app/src/main/java/org/thought...</td>\n",
       "      <td>29</td>\n",
       "      <td>signal</td>\n",
       "      <td>[('wrap', 'compat', 'os'), ('compat', 'os', 'v...</td>\n",
       "    </tr>\n",
       "    <tr>\n",
       "      <th>2</th>\n",
       "      <td>3</td>\n",
       "      <td>TODO investigate if this false cause any issues!</td>\n",
       "      <td>security</td>\n",
       "      <td>['todo', 'investig', 'fals', 'caus', 'issu']</td>\n",
       "      <td>java</td>\n",
       "      <td>todo investig fals caus issu</td>\n",
       "      <td>/tmp/tmpsxsprcp1/OsmAnd/src/net/osmand/plus/ac...</td>\n",
       "      <td>5</td>\n",
       "      <td>osmand</td>\n",
       "      <td>[('todo', 'investig', 'fals'), ('investig', 'f...</td>\n",
       "    </tr>\n",
       "    <tr>\n",
       "      <th>3</th>\n",
       "      <td>4</td>\n",
       "      <td>ProfileEditNameFragment Removed by excludeNonT...</td>\n",
       "      <td>security</td>\n",
       "      <td>['profil', 'editnam', 'fragment', 'remov', 'ex...</td>\n",
       "      <td>xml</td>\n",
       "      <td>profil editnam fragment remov exclud nontransl...</td>\n",
       "      <td>/tmp/tmp7qfv_owk/app/src/main/res/values-tl/st...</td>\n",
       "      <td>20</td>\n",
       "      <td>osmand</td>\n",
       "      <td>[('profileeditnamefrag', 'remov', 'excludenont...</td>\n",
       "    </tr>\n",
       "    <tr>\n",
       "      <th>4</th>\n",
       "      <td>5</td>\n",
       "      <td>We have no idea why, so we're just catching it...</td>\n",
       "      <td>self-direction, security</td>\n",
       "      <td>['idea', 'catch', 'mark', 'messag', 'failur', ...</td>\n",
       "      <td>java</td>\n",
       "      <td>idea catch mark messag failur way least repeat...</td>\n",
       "      <td>/var/folders/0z/w9k_bhsd1pv7yblndck71ync0000gn...</td>\n",
       "      <td>24</td>\n",
       "      <td>signal</td>\n",
       "      <td>[('note', '110414', 'there'), ('110414', 'ther...</td>\n",
       "    </tr>\n",
       "    <tr>\n",
       "      <th>...</th>\n",
       "      <td>...</td>\n",
       "      <td>...</td>\n",
       "      <td>...</td>\n",
       "      <td>...</td>\n",
       "      <td>...</td>\n",
       "      <td>...</td>\n",
       "      <td>...</td>\n",
       "      <td>...</td>\n",
       "      <td>...</td>\n",
       "      <td>...</td>\n",
       "    </tr>\n",
       "    <tr>\n",
       "      <th>1177</th>\n",
       "      <td>1178</td>\n",
       "      <td>Google doesn't publish checksums. Why, Google,...</td>\n",
       "      <td>none</td>\n",
       "      <td>['googl', 'publish', 'check', 'sum', 'googl']</td>\n",
       "      <td>xml</td>\n",
       "      <td>googl publish check sum googl</td>\n",
       "      <td>/Users/rubber/fenix/taskcluster/scripts/toolch...</td>\n",
       "      <td>4</td>\n",
       "      <td>firefox</td>\n",
       "      <td>[('google', 'publish', 'checksums'), ('publish...</td>\n",
       "    </tr>\n",
       "    <tr>\n",
       "      <th>1178</th>\n",
       "      <td>1179</td>\n",
       "      <td>Test running on betarelease builds in CI: caut...</td>\n",
       "      <td>conformity</td>\n",
       "      <td>['test', 'run', 'beta', 'releas', 'build', 'ci...</td>\n",
       "      <td>kotlin</td>\n",
       "      <td>test run beta releas build ci caution make cha...</td>\n",
       "      <td>/Users/rubber/fenix/app/src/androidTest/java/o...</td>\n",
       "      <td>13</td>\n",
       "      <td>firefox</td>\n",
       "      <td>[('test', 'running', 'betarelease'), ('running...</td>\n",
       "    </tr>\n",
       "    <tr>\n",
       "      <th>1179</th>\n",
       "      <td>1180</td>\n",
       "      <td>This is just a super secret crash button, so i...</td>\n",
       "      <td>none</td>\n",
       "      <td>['super', 'secret', 'crash', 'button', 'interf...</td>\n",
       "      <td>xml</td>\n",
       "      <td>super secret crash button interfer real element</td>\n",
       "      <td>/var/folders/0z/w9k_bhsd1pv7yblndck71ync0000gn...</td>\n",
       "      <td>8</td>\n",
       "      <td>wordpress</td>\n",
       "      <td>[('super', 'secret', 'crash'), ('secret', 'cra...</td>\n",
       "    </tr>\n",
       "    <tr>\n",
       "      <th>1180</th>\n",
       "      <td>1181</td>\n",
       "      <td>get children for this comment, set their level...</td>\n",
       "      <td>none</td>\n",
       "      <td>['get', 'child', 'ren', 'comment', 'set', 'lev...</td>\n",
       "      <td>kotlin</td>\n",
       "      <td>get child ren comment set level add parent</td>\n",
       "      <td>/var/folders/0z/w9k_bhsd1pv7yblndck71ync0000gn...</td>\n",
       "      <td>7</td>\n",
       "      <td>wordpress</td>\n",
       "      <td>[('get', 'children', 'comment'), ('children', ...</td>\n",
       "    </tr>\n",
       "    <tr>\n",
       "      <th>1181</th>\n",
       "      <td>1182</td>\n",
       "      <td>I'm pretty sure values() constructs a new arra...</td>\n",
       "      <td>none</td>\n",
       "      <td>['pretti', 'sure', 'valu', 'construct', 'new',...</td>\n",
       "      <td>java</td>\n",
       "      <td>pretti sure valu construct new array everi tim...</td>\n",
       "      <td>/tmp/tmpsxsprcp1/OsmAnd-java/src/main/java/com...</td>\n",
       "      <td>19</td>\n",
       "      <td>osmand</td>\n",
       "      <td>[('im', 'pretti', 'sure'), ('pretti', 'sure', ...</td>\n",
       "    </tr>\n",
       "  </tbody>\n",
       "</table>\n",
       "<p>1182 rows × 10 columns</p>\n",
       "</div>"
      ],
      "text/plain": [
       "      commentid                                   original_comment  \\\n",
       "0             1  Simple end list indicator for cases when we wa...   \n",
       "1             2  Wraps the compat and OS versions of the Notifi...   \n",
       "2             3   TODO investigate if this false cause any issues!   \n",
       "3             4  ProfileEditNameFragment Removed by excludeNonT...   \n",
       "4             5  We have no idea why, so we're just catching it...   \n",
       "...         ...                                                ...   \n",
       "1177       1178  Google doesn't publish checksums. Why, Google,...   \n",
       "1178       1179  Test running on betarelease builds in CI: caut...   \n",
       "1179       1180  This is just a super secret crash button, so i...   \n",
       "1180       1181  get children for this comment, set their level...   \n",
       "1181       1182  I'm pretty sure values() constructs a new arra...   \n",
       "\n",
       "                         label  \\\n",
       "0         hedonism, conformity   \n",
       "1                     hedonism   \n",
       "2                     security   \n",
       "3                     security   \n",
       "4     self-direction, security   \n",
       "...                        ...   \n",
       "1177                      none   \n",
       "1178                conformity   \n",
       "1179                      none   \n",
       "1180                      none   \n",
       "1181                      none   \n",
       "\n",
       "                                                   line language  \\\n",
       "0     ['simpl', 'end', 'list', 'indic', 'case', 'wan...      xml   \n",
       "1     ['wrap', 'compat', 'os', 'version', 'notif', '...   kotlin   \n",
       "2          ['todo', 'investig', 'fals', 'caus', 'issu']     java   \n",
       "3     ['profil', 'editnam', 'fragment', 'remov', 'ex...      xml   \n",
       "4     ['idea', 'catch', 'mark', 'messag', 'failur', ...     java   \n",
       "...                                                 ...      ...   \n",
       "1177      ['googl', 'publish', 'check', 'sum', 'googl']      xml   \n",
       "1178  ['test', 'run', 'beta', 'releas', 'build', 'ci...   kotlin   \n",
       "1179  ['super', 'secret', 'crash', 'button', 'interf...      xml   \n",
       "1180  ['get', 'child', 'ren', 'comment', 'set', 'lev...   kotlin   \n",
       "1181  ['pretti', 'sure', 'valu', 'construct', 'new',...     java   \n",
       "\n",
       "                                               new_line  \\\n",
       "0     simpl end list indic case want make sure fab c...   \n",
       "1     wrap compat os version notif build er easili a...   \n",
       "2                          todo investig fals caus issu   \n",
       "3     profil editnam fragment remov exclud nontransl...   \n",
       "4     idea catch mark messag failur way least repeat...   \n",
       "...                                                 ...   \n",
       "1177                      googl publish check sum googl   \n",
       "1178  test run beta releas build ci caution make cha...   \n",
       "1179    super secret crash button interfer real element   \n",
       "1180         get child ren comment set level add parent   \n",
       "1181  pretti sure valu construct new array everi tim...   \n",
       "\n",
       "                                               location  length     source  \\\n",
       "0     /var/folders/0z/w9k_bhsd1pv7yblndck71ync0000gn...      12  wordpress   \n",
       "1     /tmp/tmpdk05w3ez/app/src/main/java/org/thought...      29     signal   \n",
       "2     /tmp/tmpsxsprcp1/OsmAnd/src/net/osmand/plus/ac...       5     osmand   \n",
       "3     /tmp/tmp7qfv_owk/app/src/main/res/values-tl/st...      20     osmand   \n",
       "4     /var/folders/0z/w9k_bhsd1pv7yblndck71ync0000gn...      24     signal   \n",
       "...                                                 ...     ...        ...   \n",
       "1177  /Users/rubber/fenix/taskcluster/scripts/toolch...       4    firefox   \n",
       "1178  /Users/rubber/fenix/app/src/androidTest/java/o...      13    firefox   \n",
       "1179  /var/folders/0z/w9k_bhsd1pv7yblndck71ync0000gn...       8  wordpress   \n",
       "1180  /var/folders/0z/w9k_bhsd1pv7yblndck71ync0000gn...       7  wordpress   \n",
       "1181  /tmp/tmpsxsprcp1/OsmAnd-java/src/main/java/com...      19     osmand   \n",
       "\n",
       "                                                trigram  \n",
       "0     [('simpl', 'end', 'list'), ('end', 'list', 'in...  \n",
       "1     [('wrap', 'compat', 'os'), ('compat', 'os', 'v...  \n",
       "2     [('todo', 'investig', 'fals'), ('investig', 'f...  \n",
       "3     [('profileeditnamefrag', 'remov', 'excludenont...  \n",
       "4     [('note', '110414', 'there'), ('110414', 'ther...  \n",
       "...                                                 ...  \n",
       "1177  [('google', 'publish', 'checksums'), ('publish...  \n",
       "1178  [('test', 'running', 'betarelease'), ('running...  \n",
       "1179  [('super', 'secret', 'crash'), ('secret', 'cra...  \n",
       "1180  [('get', 'children', 'comment'), ('children', ...  \n",
       "1181  [('im', 'pretti', 'sure'), ('pretti', 'sure', ...  \n",
       "\n",
       "[1182 rows x 10 columns]"
      ]
     },
     "execution_count": 291,
     "metadata": {},
     "output_type": "execute_result"
    }
   ],
   "source": [
    "data"
   ]
  },
  {
   "cell_type": "code",
   "execution_count": 292,
   "id": "73ea6fd9",
   "metadata": {},
   "outputs": [
    {
     "data": {
      "text/plain": [
       "{'achievement',\n",
       " 'benevolence',\n",
       " 'conformity',\n",
       " 'hedonism',\n",
       " 'none',\n",
       " 'power',\n",
       " 'security',\n",
       " 'self-direction',\n",
       " 'stimulation',\n",
       " 'universalism'}"
      ]
     },
     "execution_count": 292,
     "metadata": {},
     "output_type": "execute_result"
    }
   ],
   "source": [
    "labels = set()\n",
    "\n",
    "tmp = data['label'].apply(lambda x: x.split(', '))\n",
    "for label in tmp:\n",
    "    labels = labels.union(label)\n",
    "    \n",
    "labels"
   ]
  },
  {
   "cell_type": "code",
   "execution_count": 293,
   "id": "df00eeba",
   "metadata": {},
   "outputs": [
    {
     "name": "stdout",
     "output_type": "stream",
     "text": [
      "LABELS:\n",
      "-----------------\n",
      "[116, 116, 72, 13, 45, 81, 2, 148, 607, 33]\n",
      "{'security', 'conformity', 'benevolence', 'achievement', 'hedonism', 'self-direction', 'stimulation', 'universalism', 'none', 'power'}\n"
     ]
    },
    {
     "data": {
      "image/png": "[encoded data removed]",
      "text/plain": [
       "<Figure size 432x288 with 1 Axes>"
      ]
     },
     "metadata": {},
     "output_type": "display_data"
    }
   ],
   "source": [
    "arr = []\n",
    "print(\"LABELS:\", end=\"\\n-----------------\\n\")\n",
    "\n",
    "labels_counter = {}\n",
    "\n",
    "for label in labels:\n",
    "    labels_counter[label] = 0\n",
    "\n",
    "for data_labels in tmp:\n",
    "    for label in labels:\n",
    "        for data_label in data_labels:\n",
    "            if data_label == label:\n",
    "                labels_counter[label] += 1\n",
    "            \n",
    "arr = []\n",
    "\n",
    "for label_name, frequency in labels_counter.items():\n",
    "    arr.append(frequency)\n",
    "\n",
    "print((arr))\n",
    "print(labels)\n",
    "    \n",
    "colors = ['yellowgreen', 'gold', 'lightskyblue', 'lightcoral']\n",
    "explode = (0,0.1,0.2,0.4,0,0,0.1,.1,0,0)\n",
    "plt.pie(arr, labels=labels, radius=1.5, colors=colors, explode=explode, shadow=False, startangle=80)\n",
    "plt.savefig('label_distribution.jpg', dpi=1000, bbox_inches='tight', pad_inches=.1)"
   ]
  },
  {
   "cell_type": "code",
   "execution_count": 294,
   "id": "5e01c382",
   "metadata": {},
   "outputs": [
    {
     "name": "stdout",
     "output_type": "stream",
     "text": [
      "Counter({'firefox': 503, 'osmand': 222, 'signal': 152, 'wordpress': 139, 'cgeo': 58, 'fbreader': 50, 'termux': 31, 'k-9': 18, 'duckduckgo': 6, 'bitcoin-wallet': 3})\n"
     ]
    }
   ],
   "source": [
    "print(Counter(data['source']))"
   ]
  },
  {
   "cell_type": "code",
   "execution_count": 295,
   "id": "35e0f41b",
   "metadata": {},
   "outputs": [],
   "source": [
    "split = False or split\n",
    "\n",
    "if split == False:\n",
    "    data['label'] = data['label'].apply(lambda x: x.split(', '))\n",
    "    #data['label'] = data['label'].apply(lambda x: [] if ['none'] == x else x)\n",
    "    data['label'] = data['label'].apply(lambda x: np.array(x))\n",
    "    split = True"
   ]
  },
  {
   "cell_type": "code",
   "execution_count": 296,
   "id": "3327fc8c",
   "metadata": {},
   "outputs": [
    {
     "data": {
      "text/plain": [
       "0           [hedonism, conformity]\n",
       "1                       [hedonism]\n",
       "2                       [security]\n",
       "3                       [security]\n",
       "4       [self-direction, security]\n",
       "                   ...            \n",
       "1177                        [none]\n",
       "1178                  [conformity]\n",
       "1179                        [none]\n",
       "1180                        [none]\n",
       "1181                        [none]\n",
       "Name: label, Length: 1182, dtype: object"
      ]
     },
     "execution_count": 296,
     "metadata": {},
     "output_type": "execute_result"
    }
   ],
   "source": [
    "data['label']"
   ]
  },
  {
   "cell_type": "markdown",
   "id": "3830f522",
   "metadata": {},
   "source": [
    "# Missing data"
   ]
  },
  {
   "cell_type": "code",
   "execution_count": 297,
   "id": "d506a596",
   "metadata": {},
   "outputs": [
    {
     "name": "stdout",
     "output_type": "stream",
     "text": [
      "commentid           0.0\n",
      "original_comment    0.0\n",
      "label               0.0\n",
      "line                0.0\n",
      "language            0.0\n",
      "new_line            0.0\n",
      "location            0.0\n",
      "length              0.0\n",
      "source              0.0\n",
      "trigram             0.0\n",
      "dtype: float64\n"
     ]
    },
    {
     "data": {
      "text/plain": [
       "<AxesSubplot:>"
      ]
     },
     "execution_count": 297,
     "metadata": {},
     "output_type": "execute_result"
    },
    {
     "data": {
      "image/png": "[encoded data removed]",
      "text/plain": [
       "<Figure size 1800x720 with 2 Axes>"
      ]
     },
     "metadata": {
      "needs_background": "light"
     },
     "output_type": "display_data"
    }
   ],
   "source": [
    "import missingno as msno\n",
    "mean_missing_data = data.isnull().mean() * 100\n",
    "print(mean_missing_data)\n",
    "msno.matrix(data.sample(500))"
   ]
  },
  {
   "cell_type": "markdown",
   "id": "482bb274",
   "metadata": {},
   "source": [
    "# Splitting dataset"
   ]
  },
  {
   "cell_type": "code",
   "execution_count": 384,
   "id": "b31fbad3",
   "metadata": {},
   "outputs": [
    {
     "name": "stdout",
     "output_type": "stream",
     "text": [
      "length of training set: 0.75\n",
      "length of testing set: 0.25\n"
     ]
    }
   ],
   "source": [
    "from sklearn.model_selection import train_test_split\n",
    "from sklearn.model_selection import KFold\n",
    "import math\n",
    "from sklearn.neural_network import MLPClassifier\n",
    "from sklearn.ensemble import AdaBoostClassifier, GradientBoostingClassifier\n",
    "from sklearn.tree import DecisionTreeClassifier\n",
    "from collections import Counter\n",
    "from sklearn.feature_extraction.text import CountVectorizer\n",
    "from imblearn.over_sampling import SMOTEN, RandomOverSampler, SMOTE\n",
    "\n",
    "number_of_samples = min(data.shape[0], 1000000)\n",
    "\n",
    "data.drop(columns=\"location\")\n",
    "data.drop(columns=\"commentid\")\n",
    "\n",
    "X_train, X_test, y_train, y_test = train_test_split(data[0:number_of_samples],\n",
    "                                                    data['label'][0:number_of_samples],\n",
    "                                                    random_state=1, shuffle=False)\n",
    "print(\"length of training set\", end=\": \")                                                   \n",
    "print(round(100*len(X_train)/len(data))/100)\n",
    "print(\"length of testing set\", end=\": \")                                                   \n",
    "print(round(100*len(X_test)/len(data))/100)\n",
    "col_to_incl = ['new_line', 'language']\n",
    "X_train = X_train[col_to_incl]\n",
    "X_test = X_test[col_to_incl]"
   ]
  },
  {
   "cell_type": "code",
   "execution_count": 299,
   "id": "45822f71",
   "metadata": {},
   "outputs": [],
   "source": [
    "# Oversample"
   ]
  },
  {
   "cell_type": "code",
   "execution_count": 300,
   "id": "9aa0af59",
   "metadata": {},
   "outputs": [],
   "source": [
    "from itertools import chain\n",
    "from math import nan\n",
    "\n",
    "def find_denom(li, v_count):\n",
    "    try:\n",
    "        res = sum(map(v_count.get, li)) / (len(li))\n",
    "        #print(res)\n",
    "        return res\n",
    "    except:\n",
    "        return nan\n",
    "\n",
    "\n",
    "def oversample(x, y, len_mult=2, random_state=0) -> pd.DataFrame:\n",
    "    df = pd.DataFrame()\n",
    "    #print(y)\n",
    "    df['y'] = y\n",
    "    df['language'] = x['language']\n",
    "    df['new_line'] = x['new_line']\n",
    "    value_counts = Counter(chain(*df['y'].dropna()))\n",
    "    #print(value_counts)\n",
    "    denom = df['y'].map(lambda li: find_denom(li, value_counts), na_action='ignore')\n",
    "    weights = 1 / (denom)\n",
    "    weights.fillna(weights.sum() / weights.count(), inplace=True)\n",
    "    #print(weights)\n",
    "    extra_df = df.sample(\n",
    "        len(df) * (len_mult-1), replace=True, weights=weights, random_state=random_state\n",
    "    )\n",
    "    df = pd.concat([df, extra_df])\n",
    "    \n",
    "    res_y = df['y']\n",
    "    res_x = df[['new_line', 'language']]\n",
    "    return res_x, res_y\n",
    "\n"
   ]
  },
  {
   "cell_type": "code",
   "execution_count": 301,
   "id": "3e345c21",
   "metadata": {},
   "outputs": [],
   "source": [
    "oversampled_x_train, oversampled_y_train = oversample(X_train, y_train)"
   ]
  },
  {
   "cell_type": "code",
   "execution_count": 302,
   "id": "65a5eb7c",
   "metadata": {
    "scrolled": true
   },
   "outputs": [
    {
     "data": {
      "text/plain": [
       "Counter({'hedonism': 36,\n",
       "         'conformity': 89,\n",
       "         'security': 95,\n",
       "         'self-direction': 71,\n",
       "         'universalism': 118,\n",
       "         'none': 426,\n",
       "         'benevolence': 57,\n",
       "         'power': 25,\n",
       "         'achievement': 10,\n",
       "         'stimulation': 2})"
      ]
     },
     "execution_count": 302,
     "metadata": {},
     "output_type": "execute_result"
    }
   ],
   "source": [
    "Counter(chain(*y_train))"
   ]
  },
  {
   "cell_type": "code",
   "execution_count": 303,
   "id": "9ff1afb3",
   "metadata": {},
   "outputs": [
    {
     "data": {
      "text/plain": [
       "0          [hedonism, conformity]\n",
       "1                      [hedonism]\n",
       "2                      [security]\n",
       "3                      [security]\n",
       "4      [self-direction, security]\n",
       "                  ...            \n",
       "881                        [none]\n",
       "882              [self-direction]\n",
       "883                [universalism]\n",
       "884                    [security]\n",
       "885                        [none]\n",
       "Name: label, Length: 886, dtype: object"
      ]
     },
     "execution_count": 303,
     "metadata": {},
     "output_type": "execute_result"
    }
   ],
   "source": [
    "y_train"
   ]
  },
  {
   "cell_type": "code",
   "execution_count": 304,
   "id": "91e9dc08",
   "metadata": {},
   "outputs": [
    {
     "data": {
      "text/plain": [
       "Counter({'hedonism': 132,\n",
       "         'conformity': 179,\n",
       "         'security': 187,\n",
       "         'self-direction': 180,\n",
       "         'universalism': 227,\n",
       "         'none': 499,\n",
       "         'benevolence': 149,\n",
       "         'power': 113,\n",
       "         'achievement': 91,\n",
       "         'stimulation': 117})"
      ]
     },
     "execution_count": 304,
     "metadata": {},
     "output_type": "execute_result"
    }
   ],
   "source": [
    "Counter(chain(*oversampled_y_train))"
   ]
  },
  {
   "cell_type": "markdown",
   "id": "071098e4",
   "metadata": {},
   "source": [
    "# Vectorisation"
   ]
  },
  {
   "cell_type": "code",
   "execution_count": 305,
   "id": "78d4be03",
   "metadata": {},
   "outputs": [],
   "source": [
    "http_response_status_codes = np.linspace(100, 599, 500)\n",
    "def process_out_noise(input):\n",
    "    max_word_length = 18\n",
    "    output = re.sub(r'\\d+', '', input)\n",
    "    w = re.findall(r'\\w+', output)\n",
    "    res = \"\"\n",
    "    \n",
    "    for word in w:\n",
    "        if len(word) <= max_word_length:\n",
    "            res += \" \" + word\n",
    "    \n",
    "    if output != '' and len(output) <= max_word_length:\n",
    "        return output\n",
    "    return res\n",
    "    "
   ]
  },
  {
   "cell_type": "code",
   "execution_count": 306,
   "id": "292cf6ab",
   "metadata": {},
   "outputs": [
    {
     "data": {
      "text/html": [
       "<div>\n",
       "<style scoped>\n",
       "    .dataframe tbody tr th:only-of-type {\n",
       "        vertical-align: middle;\n",
       "    }\n",
       "\n",
       "    .dataframe tbody tr th {\n",
       "        vertical-align: top;\n",
       "    }\n",
       "\n",
       "    .dataframe thead th {\n",
       "        text-align: right;\n",
       "    }\n",
       "</style>\n",
       "<table border=\"1\" class=\"dataframe\">\n",
       "  <thead>\n",
       "    <tr style=\"text-align: right;\">\n",
       "      <th></th>\n",
       "      <th>new_line</th>\n",
       "      <th>language</th>\n",
       "    </tr>\n",
       "  </thead>\n",
       "  <tbody>\n",
       "    <tr>\n",
       "      <th>0</th>\n",
       "      <td>simpl end list indic case want make sure fab c...</td>\n",
       "      <td>xml</td>\n",
       "    </tr>\n",
       "    <tr>\n",
       "      <th>1</th>\n",
       "      <td>wrap compat os version notif build er easili a...</td>\n",
       "      <td>kotlin</td>\n",
       "    </tr>\n",
       "    <tr>\n",
       "      <th>2</th>\n",
       "      <td>todo investig fals caus issu</td>\n",
       "      <td>java</td>\n",
       "    </tr>\n",
       "    <tr>\n",
       "      <th>3</th>\n",
       "      <td>profil editnam fragment remov exclud nontransl...</td>\n",
       "      <td>xml</td>\n",
       "    </tr>\n",
       "    <tr>\n",
       "      <th>4</th>\n",
       "      <td>idea catch mark messag failur way least repeat...</td>\n",
       "      <td>java</td>\n",
       "    </tr>\n",
       "    <tr>\n",
       "      <th>...</th>\n",
       "      <td>...</td>\n",
       "      <td>...</td>\n",
       "    </tr>\n",
       "    <tr>\n",
       "      <th>881</th>\n",
       "      <td>recent tab header text jump back recent tab ho...</td>\n",
       "      <td>xml</td>\n",
       "    </tr>\n",
       "    <tr>\n",
       "      <th>882</th>\n",
       "      <td>todo chrisn see work around java io reader rea...</td>\n",
       "      <td>java</td>\n",
       "    </tr>\n",
       "    <tr>\n",
       "      <th>883</th>\n",
       "      <td>number tri local builder instead avail api num...</td>\n",
       "      <td>java</td>\n",
       "    </tr>\n",
       "    <tr>\n",
       "      <th>884</th>\n",
       "      <td>lnumbern error runtim crash want ship</td>\n",
       "      <td>xml</td>\n",
       "    </tr>\n",
       "    <tr>\n",
       "      <th>885</th>\n",
       "      <td>prefer categori develop tool</td>\n",
       "      <td>xml</td>\n",
       "    </tr>\n",
       "  </tbody>\n",
       "</table>\n",
       "<p>886 rows × 2 columns</p>\n",
       "</div>"
      ],
      "text/plain": [
       "                                              new_line language\n",
       "0    simpl end list indic case want make sure fab c...      xml\n",
       "1    wrap compat os version notif build er easili a...   kotlin\n",
       "2                         todo investig fals caus issu     java\n",
       "3    profil editnam fragment remov exclud nontransl...      xml\n",
       "4    idea catch mark messag failur way least repeat...     java\n",
       "..                                                 ...      ...\n",
       "881  recent tab header text jump back recent tab ho...      xml\n",
       "882  todo chrisn see work around java io reader rea...     java\n",
       "883  number tri local builder instead avail api num...     java\n",
       "884              lnumbern error runtim crash want ship      xml\n",
       "885                       prefer categori develop tool      xml\n",
       "\n",
       "[886 rows x 2 columns]"
      ]
     },
     "execution_count": 306,
     "metadata": {},
     "output_type": "execute_result"
    }
   ],
   "source": [
    "X_train"
   ]
  },
  {
   "cell_type": "code",
   "execution_count": 307,
   "id": "133fc2b6",
   "metadata": {},
   "outputs": [],
   "source": [
    "from sklearn.feature_extraction.text import CountVectorizer, TfidfVectorizer\n",
    "from sklearn.model_selection import GridSearchCV\n",
    "from sklearn.pipeline import make_pipeline, Pipeline\n",
    "from sklearn.ensemble import GradientBoostingClassifier\n",
    "from sklearn.ensemble import RandomForestClassifier\n",
    "import scipy.sparse as sp\n",
    "import re\n",
    "from sklearn.feature_extraction.text import TfidfVectorizer\n",
    "\n",
    "count_vector = CountVectorizer(min_df = 1, ngram_range=(1,3), max_df=1000, encoding='utf-8', analyzer='word')\n",
    "\n",
    "\n",
    "res = []\n",
    "length = X_train.shape[0]\n",
    "\n",
    "def fit_training_data(training_data, testing_data, count_vector):\n",
    "\n",
    "    training_data = training_data.apply(lambda col: col.str.strip())\n",
    "    count_vector.fit(training_data.stack())\n",
    "    training_data = training_data.apply(lambda x: count_vector.transform(x))\n",
    "    training_data = sp.hstack(training_data )\n",
    "    testing_data = sp.hstack(testing_data.apply(lambda x: count_vector.transform(x))) # print(type(x)))) #\n",
    "    joblib.dump(count_vector, 'vectorizer.pkl')\n",
    "    return training_data, testing_data, count_vector\n",
    "\n",
    "training_data, testing_data, count_vector = fit_training_data(X_train, X_test, count_vector)\n"
   ]
  },
  {
   "cell_type": "markdown",
   "id": "6e7af6f3",
   "metadata": {},
   "source": [
    "# Create MultiLabelBinarizer()"
   ]
  },
  {
   "cell_type": "code",
   "execution_count": 308,
   "id": "2189f5e5",
   "metadata": {},
   "outputs": [],
   "source": [
    "### Create models"
   ]
  },
  {
   "cell_type": "code",
   "execution_count": 309,
   "id": "d0221a8d",
   "metadata": {},
   "outputs": [],
   "source": [
    "from sklearn.svm import SVC\n",
    "from sklearn.neighbors import KNeighborsClassifier\n",
    "#from sklearn.pipeline import Pipeline\n",
    "from sklearn.linear_model import LogisticRegression\n",
    "from sklearn.ensemble import StackingClassifier\n",
    "from imblearn.pipeline import Pipeline\n",
    "from skmultilearn.model_selection.iterative_stratification import IterativeStratification\n",
    "\n",
    "\n",
    "#import xgboost as xgb TODO NOT WORKING for m1 mac\n",
    "\n",
    "mlpc = MLPClassifier()\n",
    "gbdt = GradientBoostingClassifier(learning_rate=0.775, max_depth=8, min_samples_split= 3, n_estimators=120)\n",
    "dt = DecisionTreeClassifier()\n",
    "statevm = SVC(kernel='rbf', C=2.142857142857143, gamma='scale')\n",
    "knn = KNeighborsClassifier(n_neighbors=1, p=1)\n",
    "rfc = RandomForestClassifier(n_estimators=220, max_depth=150, min_samples_leaf=1, min_weight_fraction_leaf=0)\n",
    "\n",
    "ROC = RandomOverSampler()\n",
    "sm = SMOTE(random_state=12)\n",
    "\n",
    "#ROC.fit(training_data, y_train)\n",
    "\n",
    "clfs = [('mlpc', mlpc ), ('gbdt', gbdt ), ('dt', dt ), ('svm', statevm ), ('knn', knn ), ('rfc', rfc )]"
   ]
  },
  {
   "cell_type": "code",
   "execution_count": 382,
   "id": "7741a427",
   "metadata": {},
   "outputs": [
    {
     "data": {
      "text/plain": [
       "array([[0, 0, 1, ..., 0, 0, 0],\n",
       "       [0, 0, 0, ..., 0, 0, 0],\n",
       "       [0, 0, 0, ..., 0, 0, 0],\n",
       "       ...,\n",
       "       [0, 0, 0, ..., 0, 0, 1],\n",
       "       [0, 0, 0, ..., 0, 0, 0],\n",
       "       [0, 0, 0, ..., 0, 0, 0]])"
      ]
     },
     "execution_count": 382,
     "metadata": {},
     "output_type": "execute_result"
    }
   ],
   "source": [
    "from sklearn.preprocessing import MultiLabelBinarizer\n",
    "\n",
    "def create_binarizer(train, test):\n",
    "    binarizer = MultiLabelBinarizer()\n",
    "    #print(train)\n",
    "    y_train = binarizer.fit_transform(train)\n",
    "    y_test = binarizer.transform(test)\n",
    "    #print(binarizer.classes_)\n",
    "    joblib.dump(binarizer, 'binarizer.pkl')\n",
    "    return y_train, y_test, binarizer\n",
    "\n",
    "y_train, y_test, binarizer = create_binarizer(y_train, y_test)\n",
    "\n",
    "y_train"
   ]
  },
  {
   "cell_type": "code",
   "execution_count": 311,
   "id": "e1d400c4",
   "metadata": {},
   "outputs": [
    {
     "data": {
      "text/plain": [
       "10"
      ]
     },
     "execution_count": 311,
     "metadata": {},
     "output_type": "execute_result"
    }
   ],
   "source": [
    "len(y_train[0])"
   ]
  },
  {
   "cell_type": "code",
   "execution_count": 312,
   "id": "ae828121",
   "metadata": {},
   "outputs": [
    {
     "name": "stdout",
     "output_type": "stream",
     "text": [
      "18375\n"
     ]
    }
   ],
   "source": [
    "print(len(count_vector.get_feature_names_out()))"
   ]
  },
  {
   "cell_type": "code",
   "execution_count": 313,
   "id": "4f36a20a",
   "metadata": {},
   "outputs": [],
   "source": [
    "# Cross validation"
   ]
  },
  {
   "cell_type": "code",
   "execution_count": 314,
   "id": "821c1ea7",
   "metadata": {},
   "outputs": [],
   "source": [
    "def fit_multi_output_model(classifier, training_Data, y_train):\n",
    "    multiple_output_model = MultiOutputRegressor(classifier).fit(training_Data, y_train)\n",
    "    return multiple_output_model"
   ]
  },
  {
   "cell_type": "code",
   "execution_count": 315,
   "id": "4d0402ef",
   "metadata": {},
   "outputs": [
    {
     "data": {
      "text/plain": [
       "scipy.sparse.coo.coo_matrix"
      ]
     },
     "execution_count": 315,
     "metadata": {},
     "output_type": "execute_result"
    }
   ],
   "source": [
    "type(training_data)"
   ]
  },
  {
   "cell_type": "code",
   "execution_count": 316,
   "id": "068fb7c9",
   "metadata": {
    "scrolled": true
   },
   "outputs": [
    {
     "data": {
      "text/plain": [
       "array(['aar', 'aar type', 'aar type implement', ..., 'zoom return',\n",
       "       'zoom use', 'zoom use full'], dtype=object)"
      ]
     },
     "execution_count": 316,
     "metadata": {},
     "output_type": "execute_result"
    }
   ],
   "source": [
    "count_vector.get_feature_names_out()"
   ]
  },
  {
   "cell_type": "code",
   "execution_count": 317,
   "id": "06d93c99",
   "metadata": {},
   "outputs": [],
   "source": [
    "# Create models"
   ]
  },
  {
   "cell_type": "code",
   "execution_count": 318,
   "id": "afaa8e98",
   "metadata": {
    "scrolled": true
   },
   "outputs": [
    {
     "name": "stdout",
     "output_type": "stream",
     "text": [
      "fitting model: mlpc ----------\n",
      "fitting model: gbdt ----------\n",
      "fitting model: dt ----------\n",
      "fitting model: svm ----------\n",
      "fitting model: knn ----------\n",
      "fitting model: rfc ----------\n"
     ]
    }
   ],
   "source": [
    "from sklearn.multioutput import MultiOutputRegressor\n",
    "\n",
    "models = {}\n",
    "for name, classifier in clfs:\n",
    "    print(\"fitting model:\", name, \"----------\")\n",
    "    models[name] = fit_multi_output_model(classifier, training_data, y_train)\n",
    "    if name == 'gbdt':\n",
    "        joblib.dump(models[name], 'model_new2.pkl')"
   ]
  },
  {
   "cell_type": "code",
   "execution_count": 350,
   "id": "f9ca4711",
   "metadata": {},
   "outputs": [
    {
     "data": {
      "text/html": [
       "<div>\n",
       "<style scoped>\n",
       "    .dataframe tbody tr th:only-of-type {\n",
       "        vertical-align: middle;\n",
       "    }\n",
       "\n",
       "    .dataframe tbody tr th {\n",
       "        vertical-align: top;\n",
       "    }\n",
       "\n",
       "    .dataframe thead th {\n",
       "        text-align: right;\n",
       "    }\n",
       "</style>\n",
       "<table border=\"1\" class=\"dataframe\">\n",
       "  <thead>\n",
       "    <tr style=\"text-align: right;\">\n",
       "      <th></th>\n",
       "      <th>new_line</th>\n",
       "      <th>language</th>\n",
       "    </tr>\n",
       "  </thead>\n",
       "  <tbody>\n",
       "    <tr>\n",
       "      <th>0</th>\n",
       "      <td>simpl end list indic case want make sure fab c...</td>\n",
       "      <td>xml</td>\n",
       "    </tr>\n",
       "    <tr>\n",
       "      <th>1</th>\n",
       "      <td>wrap compat os version notif build er easili a...</td>\n",
       "      <td>kotlin</td>\n",
       "    </tr>\n",
       "    <tr>\n",
       "      <th>2</th>\n",
       "      <td>todo investig fals caus issu</td>\n",
       "      <td>java</td>\n",
       "    </tr>\n",
       "    <tr>\n",
       "      <th>3</th>\n",
       "      <td>profil editnam fragment remov exclud nontransl...</td>\n",
       "      <td>xml</td>\n",
       "    </tr>\n",
       "    <tr>\n",
       "      <th>4</th>\n",
       "      <td>idea catch mark messag failur way least repeat...</td>\n",
       "      <td>java</td>\n",
       "    </tr>\n",
       "    <tr>\n",
       "      <th>...</th>\n",
       "      <td>...</td>\n",
       "      <td>...</td>\n",
       "    </tr>\n",
       "    <tr>\n",
       "      <th>881</th>\n",
       "      <td>recent tab header text jump back recent tab ho...</td>\n",
       "      <td>xml</td>\n",
       "    </tr>\n",
       "    <tr>\n",
       "      <th>882</th>\n",
       "      <td>todo chrisn see work around java io reader rea...</td>\n",
       "      <td>java</td>\n",
       "    </tr>\n",
       "    <tr>\n",
       "      <th>883</th>\n",
       "      <td>number tri local builder instead avail api num...</td>\n",
       "      <td>java</td>\n",
       "    </tr>\n",
       "    <tr>\n",
       "      <th>884</th>\n",
       "      <td>lnumbern error runtim crash want ship</td>\n",
       "      <td>xml</td>\n",
       "    </tr>\n",
       "    <tr>\n",
       "      <th>885</th>\n",
       "      <td>prefer categori develop tool</td>\n",
       "      <td>xml</td>\n",
       "    </tr>\n",
       "  </tbody>\n",
       "</table>\n",
       "<p>886 rows × 2 columns</p>\n",
       "</div>"
      ],
      "text/plain": [
       "                                              new_line language\n",
       "0    simpl end list indic case want make sure fab c...      xml\n",
       "1    wrap compat os version notif build er easili a...   kotlin\n",
       "2                         todo investig fals caus issu     java\n",
       "3    profil editnam fragment remov exclud nontransl...      xml\n",
       "4    idea catch mark messag failur way least repeat...     java\n",
       "..                                                 ...      ...\n",
       "881  recent tab header text jump back recent tab ho...      xml\n",
       "882  todo chrisn see work around java io reader rea...     java\n",
       "883  number tri local builder instead avail api num...     java\n",
       "884              lnumbern error runtim crash want ship      xml\n",
       "885                       prefer categori develop tool      xml\n",
       "\n",
       "[886 rows x 2 columns]"
      ]
     },
     "execution_count": 350,
     "metadata": {},
     "output_type": "execute_result"
    }
   ],
   "source": [
    "X_train"
   ]
  },
  {
   "cell_type": "code",
   "execution_count": 351,
   "id": "6b9c9cdd",
   "metadata": {},
   "outputs": [
    {
     "data": {
      "text/plain": [
       "array([[0, 0, 1, ..., 0, 0, 0],\n",
       "       [0, 0, 0, ..., 0, 0, 0],\n",
       "       [0, 0, 0, ..., 0, 0, 0],\n",
       "       ...,\n",
       "       [0, 0, 0, ..., 0, 0, 1],\n",
       "       [0, 0, 0, ..., 0, 0, 0],\n",
       "       [0, 0, 0, ..., 0, 0, 0]])"
      ]
     },
     "execution_count": 351,
     "metadata": {},
     "output_type": "execute_result"
    }
   ],
   "source": [
    "y_train"
   ]
  },
  {
   "cell_type": "code",
   "execution_count": 329,
   "id": "5a62d6bc",
   "metadata": {},
   "outputs": [],
   "source": [
    "# Learning curve"
   ]
  },
  {
   "cell_type": "code",
   "execution_count": 2,
   "id": "5b7ee72b",
   "metadata": {},
   "outputs": [
    {
     "ename": "NameError",
     "evalue": "name 'np' is not defined",
     "output_type": "error",
     "traceback": [
      "\u001b[0;31m---------------------------------------------------------------------------\u001b[0m",
      "\u001b[0;31mNameError\u001b[0m                                 Traceback (most recent call last)",
      "\u001b[0;32m/var/folders/0z/w9k_bhsd1pv7yblndck71ync0000gn/T/ipykernel_1191/3749668632.py\u001b[0m in \u001b[0;36m<module>\u001b[0;34m\u001b[0m\n\u001b[0;32m----> 1\u001b[0;31m \u001b[0msizes\u001b[0m \u001b[0;34m=\u001b[0m \u001b[0mnp\u001b[0m\u001b[0;34m.\u001b[0m\u001b[0mlinspace\u001b[0m\u001b[0;34m(\u001b[0m\u001b[0;36m0.05\u001b[0m\u001b[0;34m,\u001b[0m \u001b[0;36m1\u001b[0m\u001b[0;34m,\u001b[0m \u001b[0;36m10\u001b[0m\u001b[0;34m)\u001b[0m\u001b[0;34m\u001b[0m\u001b[0;34m\u001b[0m\u001b[0m\n\u001b[0m\u001b[1;32m      2\u001b[0m \u001b[0;34m\u001b[0m\u001b[0m\n\u001b[1;32m      3\u001b[0m \u001b[0msize\u001b[0m \u001b[0;34m=\u001b[0m \u001b[0mlen\u001b[0m\u001b[0;34m(\u001b[0m\u001b[0mX_train\u001b[0m\u001b[0;34m)\u001b[0m\u001b[0;34m\u001b[0m\u001b[0;34m\u001b[0m\u001b[0m\n\u001b[1;32m      4\u001b[0m \u001b[0;32mfor\u001b[0m \u001b[0meach_size\u001b[0m \u001b[0;32min\u001b[0m \u001b[0msizes\u001b[0m\u001b[0;34m:\u001b[0m\u001b[0;34m\u001b[0m\u001b[0;34m\u001b[0m\u001b[0m\n\u001b[1;32m      5\u001b[0m     \u001b[0mtmp_training_x\u001b[0m \u001b[0;34m=\u001b[0m \u001b[0mX_train\u001b[0m\u001b[0;34m[\u001b[0m\u001b[0;34m:\u001b[0m\u001b[0mround\u001b[0m\u001b[0;34m(\u001b[0m\u001b[0meach_size\u001b[0m\u001b[0;34m*\u001b[0m\u001b[0msize\u001b[0m\u001b[0;34m)\u001b[0m\u001b[0;34m]\u001b[0m\u001b[0;34m\u001b[0m\u001b[0;34m\u001b[0m\u001b[0m\n",
      "\u001b[0;31mNameError\u001b[0m: name 'np' is not defined"
     ]
    }
   ],
   "source": [
    "sizes = np.linspace(0.05, 1, 10)\n",
    "\n",
    "size = len(X_train)\n",
    "for each_size in sizes:\n",
    "    tmp_training_x = X_train[:round(each_size*size)]\n",
    "    tmp_training_y = y_train[:round(each_size*size)]\n",
    "    \n",
    "  \n",
    "    \n",
    "    c = CountVectorizer(min_df = 1, ngram_range=(1,3), max_df=1000, encoding='utf-8', analyzer='word')\n",
    "    \n",
    "    \n",
    "    \n",
    "    b = MultiLabelBinarizer()\n",
    "\n",
    "    \n",
    "    c.fit(tmp_training_x)\n",
    "    tmp_x, td, c = fit_training_data(tmp_training_x, X_test, c)\n",
    "\n",
    "    \n",
    "    tmp_y = b.fit_transform(tmp_training_y)\n",
    "\n",
    "    model = MultiOutputRegressor(GradientBoostingClassifier(learning_rate=0.775, max_depth=8, min_samples_split= 3, n_estimators=120))\n",
    "    \n",
    "    model.fit(tmp_x, tmp_y)\n",
    "    \n",
    "    prediction = model.predict(td)    \n",
    "    \n",
    "    tmp_y_test = b.transform(y_test)\n",
    "    \n",
    "    \n",
    "    tmp_prediction = to_only_none(prediction)\n",
    "\n",
    "    print(\"for size\", each_size*len(X_train), \":\", \"-----------------------\")\n",
    "    print('Accuracy score: ', str(accuracy_score(tmp_y_test, tmp_prediction)))\n",
    "    print('Precision score: ', str(precision_score(tmp_y_test, tmp_prediction, average='weighted', zero_division=0)))\n",
    "    print('Recall score: ', str(recall_score(tmp_y_test, tmp_prediction, average='weighted', zero_division=0)))\n",
    "    print('F1 score: ', str(f1_score(tmp_y_test, tmp_prediction, average='weighted',  zero_division=0)))\n",
    "    \n",
    "    "
   ]
  },
  {
   "cell_type": "code",
   "execution_count": 1,
   "id": "50efdda1",
   "metadata": {},
   "outputs": [
    {
     "ename": "NameError",
     "evalue": "name 'size' is not defined",
     "output_type": "error",
     "traceback": [
      "\u001b[0;31m---------------------------------------------------------------------------\u001b[0m",
      "\u001b[0;31mNameError\u001b[0m                                 Traceback (most recent call last)",
      "\u001b[0;32m/var/folders/0z/w9k_bhsd1pv7yblndck71ync0000gn/T/ipykernel_1191/3454264908.py\u001b[0m in \u001b[0;36m<module>\u001b[0;34m\u001b[0m\n\u001b[0;32m----> 1\u001b[0;31m \u001b[0msize\u001b[0m\u001b[0;34m\u001b[0m\u001b[0;34m\u001b[0m\u001b[0m\n\u001b[0m",
      "\u001b[0;31mNameError\u001b[0m: name 'size' is not defined"
     ]
    }
   ],
   "source": [
    "size"
   ]
  },
  {
   "cell_type": "markdown",
   "id": "dfd4bb76",
   "metadata": {},
   "source": [
    "# Predictions"
   ]
  },
  {
   "cell_type": "code",
   "execution_count": 319,
   "id": "9ab23a5c",
   "metadata": {
    "scrolled": false
   },
   "outputs": [
    {
     "name": "stdout",
     "output_type": "stream",
     "text": [
      "(296, 36750)\n",
      "(296, 36750)\n",
      "(296, 36750)\n",
      "(296, 36750)\n",
      "(296, 36750)\n",
      "(296, 36750)\n"
     ]
    }
   ],
   "source": [
    "predictions = {}\n",
    "for name, model in models.items():\n",
    "    predictions[name] = model.predict(testing_data)\n",
    "    print(testing_data.shape)\n",
    "#it_predictions = binarizer.inverse_transform(predictions['gbdt'])\n",
    "#for i in range(len(it_predictions)):\n",
    "#    if it_predictions[i] == ():\n",
    "#        it_predictions[i] = ('none',)\n",
    "#    if len(it_predictions[i]) > 0 and 'none' in it_predictions[i]:\n",
    "#        it_predictions[i] = ('none',)"
   ]
  },
  {
   "cell_type": "code",
   "execution_count": 320,
   "id": "96fe07f9",
   "metadata": {},
   "outputs": [],
   "source": [
    "    def to_only_none(input):\n",
    "        res = []\n",
    "        for i, item in enumerate(input):\n",
    "            if item[4] == 1 or not np.any(item):\n",
    "                x = [0] * len(item)\n",
    "                x[4] = 1\n",
    "                res.append(x)\n",
    "\n",
    "            else:\n",
    "                res.append(item)\n",
    "        return np.array(res)\n"
   ]
  },
  {
   "cell_type": "code",
   "execution_count": 321,
   "id": "c1bfe3b5",
   "metadata": {},
   "outputs": [
    {
     "name": "stdout",
     "output_type": "stream",
     "text": [
      "[0 0 0 0 1 0 0 0 0 0]\n"
     ]
    }
   ],
   "source": [
    "print(predictions['gbdt'][99])"
   ]
  },
  {
   "cell_type": "code",
   "execution_count": 322,
   "id": "8f260535",
   "metadata": {
    "scrolled": false
   },
   "outputs": [
    {
     "name": "stdout",
     "output_type": "stream",
     "text": [
      "mlpc : -----------------------\n",
      "Accuracy score:  0.777027027027027\n",
      "Precision score:  0.8138697152717861\n",
      "Recall score:  0.7664473684210527\n",
      "F1 score:  0.7392106344286913\n",
      "gbdt : -----------------------\n",
      "Accuracy score:  0.8108108108108109\n",
      "Precision score:  0.8219714423246632\n",
      "Recall score:  0.8223684210526315\n",
      "F1 score:  0.8070342882214011\n",
      "dt : -----------------------\n",
      "Accuracy score:  0.8141891891891891\n",
      "Precision score:  0.8132112191192843\n",
      "Recall score:  0.819078947368421\n",
      "F1 score:  0.8047062023448844\n",
      "svm : -----------------------\n",
      "Accuracy score:  0.7601351351351351\n",
      "Precision score:  0.8026011041774754\n",
      "Recall score:  0.7467105263157895\n",
      "F1 score:  0.7140805297349485\n",
      "knn : -----------------------\n",
      "Accuracy score:  0.7128378378378378\n",
      "Precision score:  0.7283180377414125\n",
      "Recall score:  0.7072368421052632\n",
      "F1 score:  0.7006618577870253\n",
      "rfc : -----------------------\n",
      "Accuracy score:  0.7533783783783784\n",
      "Precision score:  0.8079900271512114\n",
      "Recall score:  0.743421052631579\n",
      "F1 score:  0.7084822433046228\n"
     ]
    }
   ],
   "source": [
    "from sklearn.metrics import accuracy_score, precision_score, recall_score, f1_score\n",
    "\n",
    "for model, prediction in predictions.items():\n",
    "    tmp_prediction = to_only_none(prediction)\n",
    "    print(model, \":\", \"-----------------------\")\n",
    "    print('Accuracy score: ', str(accuracy_score(y_test, tmp_prediction)))\n",
    "    print('Precision score: ', str(precision_score(y_test, tmp_prediction, average='weighted', zero_division=0)))\n",
    "    print('Recall score: ', str(recall_score(y_test, tmp_prediction, average='weighted', zero_division=0)))\n",
    "    print('F1 score: ', str(f1_score(y_test, tmp_prediction, average='weighted',  zero_division=0)))"
   ]
  },
  {
   "cell_type": "code",
   "execution_count": null,
   "id": "774119b0",
   "metadata": {},
   "outputs": [],
   "source": [
    "# Classification report"
   ]
  },
  {
   "cell_type": "code",
   "execution_count": 323,
   "id": "5cf5ff63",
   "metadata": {},
   "outputs": [
    {
     "name": "stdout",
     "output_type": "stream",
     "text": [
      "                precision    recall  f1-score   support\n",
      "\n",
      "   achievement       0.67      0.67      0.67         3\n",
      "   benevolence       0.90      0.60      0.72        15\n",
      "    conformity       0.88      0.56      0.68        27\n",
      "      hedonism       1.00      0.56      0.71         9\n",
      "          none       0.80      0.97      0.87       181\n",
      "         power       0.78      0.88      0.82         8\n",
      "      security       0.81      0.62      0.70        21\n",
      "self-direction       0.50      0.30      0.37        10\n",
      "   stimulation       0.00      0.00      0.00         0\n",
      "  universalism       0.95      0.70      0.81        30\n",
      "\n",
      "     micro avg       0.81      0.82      0.82       304\n",
      "     macro avg       0.73      0.58      0.64       304\n",
      "  weighted avg       0.82      0.82      0.81       304\n",
      "   samples avg       0.82      0.82      0.82       304\n",
      "\n",
      "<class 'str'>\n"
     ]
    },
    {
     "name": "stderr",
     "output_type": "stream",
     "text": [
      "/Library/Frameworks/Python.framework/Versions/3.8/lib/python3.8/site-packages/sklearn/metrics/_classification.py:1318: UndefinedMetricWarning: Precision and F-score are ill-defined and being set to 0.0 in labels with no predicted samples. Use `zero_division` parameter to control this behavior.\n",
      "  _warn_prf(average, modifier, msg_start, len(result))\n",
      "/Library/Frameworks/Python.framework/Versions/3.8/lib/python3.8/site-packages/sklearn/metrics/_classification.py:1318: UndefinedMetricWarning: Recall and F-score are ill-defined and being set to 0.0 in labels with no true samples. Use `zero_division` parameter to control this behavior.\n",
      "  _warn_prf(average, modifier, msg_start, len(result))\n"
     ]
    }
   ],
   "source": [
    "# from yellowbrick.classifier import ClassificationReport\n",
    "from sklearn.metrics import classification_report\n",
    "cm_viz = classification_report(\n",
    "    y_test,\n",
    "    to_only_none(predictions['gbdt']),\n",
    "    target_names=binarizer.classes_,\n",
    ")\n",
    "\n",
    "print(cm_viz)\n",
    "\n",
    "print(type(cm_viz))"
   ]
  },
  {
   "cell_type": "code",
   "execution_count": 324,
   "id": "98c42bf2",
   "metadata": {},
   "outputs": [],
   "source": [
    "# Learning curve\n"
   ]
  },
  {
   "cell_type": "code",
   "execution_count": 325,
   "id": "956ff889",
   "metadata": {},
   "outputs": [
    {
     "data": {
      "text/plain": [
       "<886x36750 sparse matrix of type '<class 'numpy.int64'>'\n",
       "\twith 32013 stored elements in COOrdinate format>"
      ]
     },
     "execution_count": 325,
     "metadata": {},
     "output_type": "execute_result"
    }
   ],
   "source": [
    "training_data"
   ]
  },
  {
   "cell_type": "code",
   "execution_count": 326,
   "id": "6a20857c",
   "metadata": {
    "scrolled": true
   },
   "outputs": [
    {
     "data": {
      "text/plain": [
       "array([[0, 0, 1, ..., 0, 0, 0],\n",
       "       [0, 0, 0, ..., 0, 0, 0],\n",
       "       [0, 0, 0, ..., 0, 0, 0],\n",
       "       ...,\n",
       "       [0, 0, 0, ..., 0, 0, 1],\n",
       "       [0, 0, 0, ..., 0, 0, 0],\n",
       "       [0, 0, 0, ..., 0, 0, 0]])"
      ]
     },
     "execution_count": 326,
     "metadata": {},
     "output_type": "execute_result"
    }
   ],
   "source": [
    "y_train"
   ]
  },
  {
   "cell_type": "code",
   "execution_count": 328,
   "id": "08a7dea3",
   "metadata": {},
   "outputs": [
    {
     "ename": "ValueError",
     "evalue": "Supported target types are: ('binary', 'multiclass'). Got 'multilabel-indicator' instead.",
     "output_type": "error",
     "traceback": [
      "\u001b[0;31m---------------------------------------------------------------------------\u001b[0m",
      "\u001b[0;31mValueError\u001b[0m                                Traceback (most recent call last)",
      "\u001b[0;32m/var/folders/0z/w9k_bhsd1pv7yblndck71ync0000gn/T/ipykernel_4327/2072785103.py\u001b[0m in \u001b[0;36m<module>\u001b[0;34m\u001b[0m\n\u001b[1;32m     10\u001b[0m \u001b[0mfig\u001b[0m\u001b[0;34m,\u001b[0m \u001b[0max\u001b[0m \u001b[0;34m=\u001b[0m \u001b[0mplt\u001b[0m\u001b[0;34m.\u001b[0m\u001b[0msubplots\u001b[0m\u001b[0;34m(\u001b[0m\u001b[0mfigsize\u001b[0m\u001b[0;34m=\u001b[0m\u001b[0;34m(\u001b[0m\u001b[0;36m6\u001b[0m\u001b[0;34m,\u001b[0m \u001b[0;36m4\u001b[0m\u001b[0;34m)\u001b[0m\u001b[0;34m)\u001b[0m\u001b[0;34m\u001b[0m\u001b[0;34m\u001b[0m\u001b[0m\n\u001b[1;32m     11\u001b[0m \u001b[0;34m\u001b[0m\u001b[0m\n\u001b[0;32m---> 12\u001b[0;31m lc_viz = LearningCurve(\n\u001b[0m\u001b[1;32m     13\u001b[0m     \u001b[0mmodels\u001b[0m\u001b[0;34m[\u001b[0m\u001b[0;34m'gbdt'\u001b[0m\u001b[0;34m]\u001b[0m\u001b[0;34m,\u001b[0m\u001b[0;34m\u001b[0m\u001b[0;34m\u001b[0m\u001b[0m\n\u001b[1;32m     14\u001b[0m     \u001b[0mtraining_data\u001b[0m\u001b[0;34m,\u001b[0m\u001b[0;34m\u001b[0m\u001b[0;34m\u001b[0m\u001b[0m\n",
      "\u001b[0;32m/Library/Frameworks/Python.framework/Versions/3.8/lib/python3.8/site-packages/sklearn/model_selection/_validation.py\u001b[0m in \u001b[0;36mlearning_curve\u001b[0;34m(estimator, X, y, groups, train_sizes, cv, scoring, exploit_incremental_learning, n_jobs, pre_dispatch, verbose, shuffle, random_state, error_score, return_times, fit_params)\u001b[0m\n\u001b[1;32m   1506\u001b[0m     \u001b[0mcv\u001b[0m \u001b[0;34m=\u001b[0m \u001b[0mcheck_cv\u001b[0m\u001b[0;34m(\u001b[0m\u001b[0mcv\u001b[0m\u001b[0;34m,\u001b[0m \u001b[0my\u001b[0m\u001b[0;34m,\u001b[0m \u001b[0mclassifier\u001b[0m\u001b[0;34m=\u001b[0m\u001b[0mis_classifier\u001b[0m\u001b[0;34m(\u001b[0m\u001b[0mestimator\u001b[0m\u001b[0;34m)\u001b[0m\u001b[0;34m)\u001b[0m\u001b[0;34m\u001b[0m\u001b[0;34m\u001b[0m\u001b[0m\n\u001b[1;32m   1507\u001b[0m     \u001b[0;31m# Store it as list as we will be iterating over the list multiple times\u001b[0m\u001b[0;34m\u001b[0m\u001b[0;34m\u001b[0m\u001b[0;34m\u001b[0m\u001b[0m\n\u001b[0;32m-> 1508\u001b[0;31m     \u001b[0mcv_iter\u001b[0m \u001b[0;34m=\u001b[0m \u001b[0mlist\u001b[0m\u001b[0;34m(\u001b[0m\u001b[0mcv\u001b[0m\u001b[0;34m.\u001b[0m\u001b[0msplit\u001b[0m\u001b[0;34m(\u001b[0m\u001b[0mX\u001b[0m\u001b[0;34m,\u001b[0m \u001b[0my\u001b[0m\u001b[0;34m,\u001b[0m \u001b[0mgroups\u001b[0m\u001b[0;34m)\u001b[0m\u001b[0;34m)\u001b[0m\u001b[0;34m\u001b[0m\u001b[0;34m\u001b[0m\u001b[0m\n\u001b[0m\u001b[1;32m   1509\u001b[0m \u001b[0;34m\u001b[0m\u001b[0m\n\u001b[1;32m   1510\u001b[0m     \u001b[0mscorer\u001b[0m \u001b[0;34m=\u001b[0m \u001b[0mcheck_scoring\u001b[0m\u001b[0;34m(\u001b[0m\u001b[0mestimator\u001b[0m\u001b[0;34m,\u001b[0m \u001b[0mscoring\u001b[0m\u001b[0;34m=\u001b[0m\u001b[0mscoring\u001b[0m\u001b[0;34m)\u001b[0m\u001b[0;34m\u001b[0m\u001b[0;34m\u001b[0m\u001b[0m\n",
      "\u001b[0;32m/Library/Frameworks/Python.framework/Versions/3.8/lib/python3.8/site-packages/sklearn/model_selection/_split.py\u001b[0m in \u001b[0;36msplit\u001b[0;34m(self, X, y, groups)\u001b[0m\n\u001b[1;32m    338\u001b[0m             )\n\u001b[1;32m    339\u001b[0m \u001b[0;34m\u001b[0m\u001b[0m\n\u001b[0;32m--> 340\u001b[0;31m         \u001b[0;32mfor\u001b[0m \u001b[0mtrain\u001b[0m\u001b[0;34m,\u001b[0m \u001b[0mtest\u001b[0m \u001b[0;32min\u001b[0m \u001b[0msuper\u001b[0m\u001b[0;34m(\u001b[0m\u001b[0;34m)\u001b[0m\u001b[0;34m.\u001b[0m\u001b[0msplit\u001b[0m\u001b[0;34m(\u001b[0m\u001b[0mX\u001b[0m\u001b[0;34m,\u001b[0m \u001b[0my\u001b[0m\u001b[0;34m,\u001b[0m \u001b[0mgroups\u001b[0m\u001b[0;34m)\u001b[0m\u001b[0;34m:\u001b[0m\u001b[0;34m\u001b[0m\u001b[0;34m\u001b[0m\u001b[0m\n\u001b[0m\u001b[1;32m    341\u001b[0m             \u001b[0;32myield\u001b[0m \u001b[0mtrain\u001b[0m\u001b[0;34m,\u001b[0m \u001b[0mtest\u001b[0m\u001b[0;34m\u001b[0m\u001b[0;34m\u001b[0m\u001b[0m\n\u001b[1;32m    342\u001b[0m \u001b[0;34m\u001b[0m\u001b[0m\n",
      "\u001b[0;32m/Library/Frameworks/Python.framework/Versions/3.8/lib/python3.8/site-packages/sklearn/model_selection/_split.py\u001b[0m in \u001b[0;36msplit\u001b[0;34m(self, X, y, groups)\u001b[0m\n\u001b[1;32m     84\u001b[0m         \u001b[0mX\u001b[0m\u001b[0;34m,\u001b[0m \u001b[0my\u001b[0m\u001b[0;34m,\u001b[0m \u001b[0mgroups\u001b[0m \u001b[0;34m=\u001b[0m \u001b[0mindexable\u001b[0m\u001b[0;34m(\u001b[0m\u001b[0mX\u001b[0m\u001b[0;34m,\u001b[0m \u001b[0my\u001b[0m\u001b[0;34m,\u001b[0m \u001b[0mgroups\u001b[0m\u001b[0;34m)\u001b[0m\u001b[0;34m\u001b[0m\u001b[0;34m\u001b[0m\u001b[0m\n\u001b[1;32m     85\u001b[0m         \u001b[0mindices\u001b[0m \u001b[0;34m=\u001b[0m \u001b[0mnp\u001b[0m\u001b[0;34m.\u001b[0m\u001b[0marange\u001b[0m\u001b[0;34m(\u001b[0m\u001b[0m_num_samples\u001b[0m\u001b[0;34m(\u001b[0m\u001b[0mX\u001b[0m\u001b[0;34m)\u001b[0m\u001b[0;34m)\u001b[0m\u001b[0;34m\u001b[0m\u001b[0;34m\u001b[0m\u001b[0m\n\u001b[0;32m---> 86\u001b[0;31m         \u001b[0;32mfor\u001b[0m \u001b[0mtest_index\u001b[0m \u001b[0;32min\u001b[0m \u001b[0mself\u001b[0m\u001b[0;34m.\u001b[0m\u001b[0m_iter_test_masks\u001b[0m\u001b[0;34m(\u001b[0m\u001b[0mX\u001b[0m\u001b[0;34m,\u001b[0m \u001b[0my\u001b[0m\u001b[0;34m,\u001b[0m \u001b[0mgroups\u001b[0m\u001b[0;34m)\u001b[0m\u001b[0;34m:\u001b[0m\u001b[0;34m\u001b[0m\u001b[0;34m\u001b[0m\u001b[0m\n\u001b[0m\u001b[1;32m     87\u001b[0m             \u001b[0mtrain_index\u001b[0m \u001b[0;34m=\u001b[0m \u001b[0mindices\u001b[0m\u001b[0;34m[\u001b[0m\u001b[0mnp\u001b[0m\u001b[0;34m.\u001b[0m\u001b[0mlogical_not\u001b[0m\u001b[0;34m(\u001b[0m\u001b[0mtest_index\u001b[0m\u001b[0;34m)\u001b[0m\u001b[0;34m]\u001b[0m\u001b[0;34m\u001b[0m\u001b[0;34m\u001b[0m\u001b[0m\n\u001b[1;32m     88\u001b[0m             \u001b[0mtest_index\u001b[0m \u001b[0;34m=\u001b[0m \u001b[0mindices\u001b[0m\u001b[0;34m[\u001b[0m\u001b[0mtest_index\u001b[0m\u001b[0;34m]\u001b[0m\u001b[0;34m\u001b[0m\u001b[0;34m\u001b[0m\u001b[0m\n",
      "\u001b[0;32m/Library/Frameworks/Python.framework/Versions/3.8/lib/python3.8/site-packages/sklearn/model_selection/_split.py\u001b[0m in \u001b[0;36m_iter_test_masks\u001b[0;34m(self, X, y, groups)\u001b[0m\n\u001b[1;32m    707\u001b[0m \u001b[0;34m\u001b[0m\u001b[0m\n\u001b[1;32m    708\u001b[0m     \u001b[0;32mdef\u001b[0m \u001b[0m_iter_test_masks\u001b[0m\u001b[0;34m(\u001b[0m\u001b[0mself\u001b[0m\u001b[0;34m,\u001b[0m \u001b[0mX\u001b[0m\u001b[0;34m,\u001b[0m \u001b[0my\u001b[0m\u001b[0;34m=\u001b[0m\u001b[0;32mNone\u001b[0m\u001b[0;34m,\u001b[0m \u001b[0mgroups\u001b[0m\u001b[0;34m=\u001b[0m\u001b[0;32mNone\u001b[0m\u001b[0;34m)\u001b[0m\u001b[0;34m:\u001b[0m\u001b[0;34m\u001b[0m\u001b[0;34m\u001b[0m\u001b[0m\n\u001b[0;32m--> 709\u001b[0;31m         \u001b[0mtest_folds\u001b[0m \u001b[0;34m=\u001b[0m \u001b[0mself\u001b[0m\u001b[0;34m.\u001b[0m\u001b[0m_make_test_folds\u001b[0m\u001b[0;34m(\u001b[0m\u001b[0mX\u001b[0m\u001b[0;34m,\u001b[0m \u001b[0my\u001b[0m\u001b[0;34m)\u001b[0m\u001b[0;34m\u001b[0m\u001b[0;34m\u001b[0m\u001b[0m\n\u001b[0m\u001b[1;32m    710\u001b[0m         \u001b[0;32mfor\u001b[0m \u001b[0mi\u001b[0m \u001b[0;32min\u001b[0m \u001b[0mrange\u001b[0m\u001b[0;34m(\u001b[0m\u001b[0mself\u001b[0m\u001b[0;34m.\u001b[0m\u001b[0mn_splits\u001b[0m\u001b[0;34m)\u001b[0m\u001b[0;34m:\u001b[0m\u001b[0;34m\u001b[0m\u001b[0;34m\u001b[0m\u001b[0m\n\u001b[1;32m    711\u001b[0m             \u001b[0;32myield\u001b[0m \u001b[0mtest_folds\u001b[0m \u001b[0;34m==\u001b[0m \u001b[0mi\u001b[0m\u001b[0;34m\u001b[0m\u001b[0;34m\u001b[0m\u001b[0m\n",
      "\u001b[0;32m/Library/Frameworks/Python.framework/Versions/3.8/lib/python3.8/site-packages/sklearn/model_selection/_split.py\u001b[0m in \u001b[0;36m_make_test_folds\u001b[0;34m(self, X, y)\u001b[0m\n\u001b[1;32m    650\u001b[0m         \u001b[0mallowed_target_types\u001b[0m \u001b[0;34m=\u001b[0m \u001b[0;34m(\u001b[0m\u001b[0;34m\"binary\"\u001b[0m\u001b[0;34m,\u001b[0m \u001b[0;34m\"multiclass\"\u001b[0m\u001b[0;34m)\u001b[0m\u001b[0;34m\u001b[0m\u001b[0;34m\u001b[0m\u001b[0m\n\u001b[1;32m    651\u001b[0m         \u001b[0;32mif\u001b[0m \u001b[0mtype_of_target_y\u001b[0m \u001b[0;32mnot\u001b[0m \u001b[0;32min\u001b[0m \u001b[0mallowed_target_types\u001b[0m\u001b[0;34m:\u001b[0m\u001b[0;34m\u001b[0m\u001b[0;34m\u001b[0m\u001b[0m\n\u001b[0;32m--> 652\u001b[0;31m             raise ValueError(\n\u001b[0m\u001b[1;32m    653\u001b[0m                 \"Supported target types are: {}. Got {!r} instead.\".format(\n\u001b[1;32m    654\u001b[0m                     \u001b[0mallowed_target_types\u001b[0m\u001b[0;34m,\u001b[0m \u001b[0mtype_of_target_y\u001b[0m\u001b[0;34m\u001b[0m\u001b[0;34m\u001b[0m\u001b[0m\n",
      "\u001b[0;31mValueError\u001b[0m: Supported target types are: ('binary', 'multiclass'). Got 'multilabel-indicator' instead."
     ]
    },
    {
     "data": {
      "image/png": "[encoded data removed]",
      "text/plain": [
       "<Figure size 432x288 with 1 Axes>"
      ]
     },
     "metadata": {
      "needs_background": "light"
     },
     "output_type": "display_data"
    }
   ],
   "source": [
    "from sklearn.model_selection import learning_curve as LearningCurve\n",
    "from sklearn.model_selection import StratifiedKFold\n",
    "\n",
    "sizes = np.linspace(0.1, 1, 3)\n",
    "\n",
    "scoring_method = \"balanced_accuracy\"\n",
    "\n",
    "cv = StratifiedKFold(12)\n",
    "\n",
    "fig, ax = plt.subplots(figsize=(6, 4))\n",
    "\n",
    "lc_viz = LearningCurve(\n",
    "    models['gbdt'],\n",
    "    training_data,\n",
    "    y_train,\n",
    "    train_sizes=sizes,\n",
    "    scoring=scoring_method,\n",
    "    n_jobs=-1,\n",
    "    error_score = 0,\n",
    "    cv = cv\n",
    ")\n",
    "\n"
   ]
  },
  {
   "cell_type": "code",
   "execution_count": null,
   "id": "ce36ae32",
   "metadata": {},
   "outputs": [],
   "source": [
    "lc_viz.fit(X, y)\n",
    "lc_viz.poof()\n",
    "fig.savefig(\"learning_curve.jpg\")"
   ]
  },
  {
   "cell_type": "code",
   "execution_count": null,
   "id": "38fefff3",
   "metadata": {},
   "outputs": [],
   "source": [
    "tmp = []\n",
    "\n",
    "#print(n_y_test[13])\n",
    "def check_same(arr1, arr2):\n",
    "    same = True\n",
    "    for item in arr1:\n",
    "        if item not in arr2:\n",
    "            return False\n",
    "        \n",
    "    for item in arr2:\n",
    "        if item not in arr1:\n",
    "            return False\n",
    "    \n",
    "    return True\n",
    "    \n",
    "print(\"predicted\", \"actual\")\n",
    "tmp = binarizer.inverse_transform(y_test)\n",
    "tmp_prediction = to_only_none(predictions['gbdt'])\n",
    "for i, item in enumerate(binarizer.inverse_transform(tmp_prediction)):\n",
    "    if not check_same(tmp[i], item):\n",
    "        print(item, \"||\", tmp[i])\n",
    "    \n"
   ]
  },
  {
   "cell_type": "markdown",
   "id": "a6b9f440",
   "metadata": {},
   "source": [
    "# Cross Validation"
   ]
  },
  {
   "cell_type": "code",
   "execution_count": 86,
   "id": "8eb635c5",
   "metadata": {},
   "outputs": [
    {
     "ename": "NameError",
     "evalue": "name 'x' is not defined",
     "output_type": "error",
     "traceback": [
      "\u001b[0;31m---------------------------------------------------------------------------\u001b[0m",
      "\u001b[0;31mNameError\u001b[0m                                 Traceback (most recent call last)",
      "\u001b[0;32m/var/folders/0z/w9k_bhsd1pv7yblndck71ync0000gn/T/ipykernel_4327/3839549571.py\u001b[0m in \u001b[0;36m<module>\u001b[0;34m\u001b[0m\n\u001b[1;32m     28\u001b[0m     \u001b[0mX_test\u001b[0m \u001b[0;34m=\u001b[0m \u001b[0mvectoriser\u001b[0m\u001b[0;34m.\u001b[0m\u001b[0mtransform\u001b[0m\u001b[0;34m(\u001b[0m\u001b[0mX_test\u001b[0m\u001b[0;34m)\u001b[0m\u001b[0;34m\u001b[0m\u001b[0;34m\u001b[0m\u001b[0m\n\u001b[1;32m     29\u001b[0m \u001b[0;34m\u001b[0m\u001b[0m\n\u001b[0;32m---> 30\u001b[0;31m     \u001b[0mmodel\u001b[0m\u001b[0;34m.\u001b[0m\u001b[0mfit\u001b[0m\u001b[0;34m(\u001b[0m\u001b[0mx\u001b[0m\u001b[0;34m,\u001b[0m \u001b[0my\u001b[0m\u001b[0;34m)\u001b[0m\u001b[0;34m\u001b[0m\u001b[0;34m\u001b[0m\u001b[0m\n\u001b[0m\u001b[1;32m     31\u001b[0m     \u001b[0mprev_score\u001b[0m \u001b[0;34m=\u001b[0m \u001b[0mmodel\u001b[0m\u001b[0;34m.\u001b[0m\u001b[0mscore\u001b[0m\u001b[0;34m(\u001b[0m\u001b[0mx\u001b[0m\u001b[0;34m,\u001b[0m \u001b[0my\u001b[0m\u001b[0;34m)\u001b[0m\u001b[0;34m\u001b[0m\u001b[0;34m\u001b[0m\u001b[0m\n\u001b[1;32m     32\u001b[0m \u001b[0;34m\u001b[0m\u001b[0m\n",
      "\u001b[0;31mNameError\u001b[0m: name 'x' is not defined"
     ]
    }
   ],
   "source": [
    "from sklearn.model_selection import KFold\n",
    "def process_out_noise(input):\n",
    "    max_word_length = 18\n",
    "    output = re.sub(r'\\d+', '', input)\n",
    "    w = re.findall(r'\\w+', output)\n",
    "\n",
    "    res = \"\"\n",
    "\n",
    "    for word in w:\n",
    "        if len(word) <= max_word_length:\n",
    "            res += \" \" + word\n",
    "\n",
    "    if output != '' and len(output) <= max_word_length:\n",
    "        return output\n",
    "    return res\n",
    "\n",
    "model = GradientBoostingClassifier(learning_rate=0.775, max_depth=8, min_samples_split= 3, n_estimators=120)\n",
    "vectoriser = CountVectorizer(min_df = 1, ngram_range=(1,3), max_df=1000, encoding='utf-8', analyzer='word')\n",
    "\n",
    "kf = KFold(n_splits=10, shuffle=True, random_state=None)\n",
    "\n",
    "split = 1\n",
    "for train_index, test_index in kf.split(data):\n",
    "    X_train, y_train = data['new_line'][train_index], data['label'][train_index]\n",
    "    X_test, y_test = data['new_line'][test_index], data['label'][test_index]\n",
    "\n",
    "    X_train = vectoriser.fit_transform(X_train)\n",
    "    X_test = vectoriser.transform(X_test)\n",
    "\n",
    "    model.fit(x, y)\n",
    "    prev_score = model.score(x, y)\n",
    "\n",
    "    prediction = model.predict(X_test)\n",
    "\n",
    "    print(\"---- For split: {}\".format(split))\n",
    "    new_score = model.score(X_test, y_test)\n",
    "    print('Accuracy score: ', str(accuracy_score(y_test, prediction)))\n",
    "    print('Precision score: ', str(precision_score(y_test, prediction, average='weighted', zero_division=0)))\n",
    "    print('Recall score: ', str(recall_score(y_test, prediction, average='weighted', zero_division=0)))\n",
    "    print('F1 score: ', str(f1_score(y_test, prediction, average='weighted',  zero_division=0)))\n",
    "\n",
    "    split += 1\n"
   ]
  },
  {
   "cell_type": "code",
   "execution_count": null,
   "id": "e10d7c62",
   "metadata": {},
   "outputs": [],
   "source": [
    "from sklearn.metrics import accuracy_score, precision_score, recall_score, f1_score\n",
    "\n",
    "for i in range(len(y_test)):\n",
    "    print(binarizer.inverse_transform(y_test)[i], end=\"||\")\n",
    "    print(binarizer.inverse_transform(prediction)[i])"
   ]
  },
  {
   "cell_type": "code",
   "execution_count": null,
   "id": "cf881db8",
   "metadata": {},
   "outputs": [],
   "source": [
    "import joblib\n",
    "\n",
    "m = joblib.load('../models/model_gbdt.pkl')"
   ]
  },
  {
   "cell_type": "code",
   "execution_count": null,
   "id": "aa34facc",
   "metadata": {},
   "outputs": [],
   "source": [
    "c = joblib.load('../models/vectorizer.pkl')"
   ]
  },
  {
   "cell_type": "code",
   "execution_count": null,
   "id": "165a008b",
   "metadata": {},
   "outputs": [],
   "source": [
    "import pandas as pd\n",
    "b = pd.read_csv('full13.csv')"
   ]
  },
  {
   "cell_type": "code",
   "execution_count": null,
   "id": "de7a7c07",
   "metadata": {},
   "outputs": [],
   "source": [
    "b = b[['new_line', 'language']]"
   ]
  },
  {
   "cell_type": "code",
   "execution_count": null,
   "id": "4e053044",
   "metadata": {},
   "outputs": [],
   "source": [
    "type(b)"
   ]
  },
  {
   "cell_type": "code",
   "execution_count": null,
   "id": "c64b8b8a",
   "metadata": {},
   "outputs": [],
   "source": [
    "b"
   ]
  },
  {
   "cell_type": "code",
   "execution_count": null,
   "id": "9769fee2",
   "metadata": {},
   "outputs": [],
   "source": [
    "bin = joblib.load('../models/binarizer.pkl')"
   ]
  },
  {
   "cell_type": "code",
   "execution_count": null,
   "id": "fbf2f53b",
   "metadata": {},
   "outputs": [],
   "source": [
    "import scipy.sparse as sp\n",
    "\n",
    "dataa = b.apply(lambda col: col.str.strip())\n",
    "dataa= dataa.apply(lambda x: c.transform(x))\n",
    "dataa = sp.hstack(dataa)\n",
    "w = m.predict(dataa)\n"
   ]
  },
  {
   "cell_type": "code",
   "execution_count": null,
   "id": "d48370b7",
   "metadata": {},
   "outputs": [],
   "source": [
    "item_to_predict = pd.DataFrame()\n",
    "item_to_predict['new_line'] = [ 'Simple end list indicator for cases when we want to make sure the FAB doesnt cover any content.' ]\n",
    "item_to_predict['language'] = ['python']\n"
   ]
  },
  {
   "cell_type": "code",
   "execution_count": null,
   "id": "fe09aa8c",
   "metadata": {},
   "outputs": [],
   "source": [
    "predictee = item_to_predict.apply(lambda col: col.str.strip())\n",
    "predictee = predictee.apply(lambda x: c.transform(x))\n",
    "predictee = sp.hstack(predictee)\n"
   ]
  },
  {
   "cell_type": "code",
   "execution_count": null,
   "id": "f000d76e",
   "metadata": {
    "scrolled": true
   },
   "outputs": [],
   "source": [
    "for item in bin.inverse_transform(m.predict(predictee)):\n",
    "    print(item)"
   ]
  },
  {
   "cell_type": "code",
   "execution_count": null,
   "id": "b162b3bd",
   "metadata": {},
   "outputs": [],
   "source": [
    "b.iloc[0]['original_comment']"
   ]
  },
  {
   "cell_type": "code",
   "execution_count": null,
   "id": "69355fc2",
   "metadata": {},
   "outputs": [],
   "source": [
    "for item in bin.inverse_transform(m.predict(dataa)):\n",
    "    print(item)"
   ]
  },
  {
   "cell_type": "code",
   "execution_count": null,
   "id": "23642135",
   "metadata": {},
   "outputs": [],
   "source": [
    "dataa.shape"
   ]
  },
  {
   "cell_type": "code",
   "execution_count": null,
   "id": "aea0f18a",
   "metadata": {},
   "outputs": [],
   "source": [
    "testing_data.shape"
   ]
  },
  {
   "cell_type": "code",
   "execution_count": null,
   "id": "650f5789",
   "metadata": {},
   "outputs": [],
   "source": [
    "# Grid search cv"
   ]
  },
  {
   "cell_type": "code",
   "execution_count": null,
   "id": "e1ae6d1f",
   "metadata": {},
   "outputs": [],
   "source": [
    "from sklearn.multioutput import MultiOutputRegressor\n",
    "from sklearn.model_selection import GridSearchCV\n",
    "\n",
    "learning_rates = np.linspace(0.5, 1.5, 3)\n",
    "\n",
    "gsc = GridSearchCV(\n",
    "            estimator=GradientBoostingClassifier(),\n",
    "            param_grid={#\"learning_rate\": learning_rates,\n",
    "                        # \"max_depth\": [6, 8, 9, 10, 11],\n",
    "                        \"n_estimators\": [80, 90, 100, 120],\n",
    "                        \"min_samples_split\": [2, 3, 5, 7],\n",
    "                       },\n",
    "            cv=3, scoring='f1_weighted', verbose=0, n_jobs=-1)\n",
    "\n",
    "grid_result = gsc.fit(training_data, y_train)\n",
    "\n",
    "best_params = grid_result.best_params_  # for the first y_target estimator\n",
    "\n",
    "print(best_params)\n"
   ]
  },
  {
   "cell_type": "code",
   "execution_count": null,
   "id": "0c93d9f4",
   "metadata": {},
   "outputs": [],
   "source": []
  },
  {
   "cell_type": "code",
   "execution_count": null,
   "id": "9123c2fc",
   "metadata": {},
   "outputs": [],
   "source": [
    "`"
   ]
  }
 ],
 "metadata": {
  "kernelspec": {
   "display_name": "Python 3 (ipykernel)",
   "language": "python",
   "name": "python3"
  },
  "language_info": {
   "codemirror_mode": {
    "name": "ipython",
    "version": 3
   },
   "file_extension": ".py",
   "mimetype": "text/x-python",
   "name": "python",
   "nbconvert_exporter": "python",
   "pygments_lexer": "ipython3",
   "version": "3.8.3"
  }
 },
 "nbformat": 4,
 "nbformat_minor": 5
}
